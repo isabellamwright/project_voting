{
  "nbformat": 4,
  "nbformat_minor": 0,
  "metadata": {
    "colab": {
      "provenance": [],
      "authorship_tag": "ABX9TyPoBMwBdtZgBMRw4QFrMPnT",
      "include_colab_link": true
    },
    "kernelspec": {
      "name": "python3",
      "display_name": "Python 3"
    },
    "language_info": {
      "name": "python"
    }
  },
  "cells": [
    {
      "cell_type": "markdown",
      "metadata": {
        "id": "view-in-github",
        "colab_type": "text"
      },
      "source": [
        "<a href=\"https://colab.research.google.com/github/isabellamwright/project_voting/blob/main/PredictiveAlgorithm.ipynb\" target=\"_parent\"><img src=\"https://colab.research.google.com/assets/colab-badge.svg\" alt=\"Open In Colab\"/></a>"
      ]
    },
    {
      "cell_type": "code",
      "execution_count": 1,
      "metadata": {
        "colab": {
          "base_uri": "https://localhost:8080/"
        },
        "id": "Lih295Yx4R24",
        "outputId": "c854c176-0c2d-4a82-b381-e302ac7f8b3e"
      },
      "outputs": [
        {
          "output_type": "stream",
          "name": "stdout",
          "text": [
            "Cloning into 'project_voting'...\n",
            "remote: Enumerating objects: 117, done.\u001b[K\n",
            "remote: Counting objects: 100% (33/33), done.\u001b[K\n",
            "remote: Compressing objects: 100% (27/27), done.\u001b[K\n",
            "remote: Total 117 (delta 17), reused 10 (delta 6), pack-reused 84\u001b[K\n",
            "Receiving objects: 100% (117/117), 62.33 MiB | 6.68 MiB/s, done.\n",
            "Resolving deltas: 100% (42/42), done.\n",
            "Updating files: 100% (48/48), done.\n"
          ]
        }
      ],
      "source": [
        "! git clone https://github.com/isabellamwright/project_voting"
      ]
    },
    {
      "cell_type": "code",
      "source": [
        "import pandas as pd\n",
        "\n",
        "# Load merged dataset\n",
        "data = pd.read_csv(\"/content/project_voting/final.csv\")\n",
        "\n",
        "# Handle missing values if any\n",
        "data.fillna(0, inplace=True)  # For simplicity, filling missing values with 0\n",
        "\n",
        "# Explore the dataset\n",
        "print(data.head())\n",
        "\n"
      ],
      "metadata": {
        "id": "pqREhp0yNXf6",
        "outputId": "629de002-d3d8-4a7d-be26-23b2a4376604",
        "colab": {
          "base_uri": "https://localhost:8080/"
        }
      },
      "execution_count": 2,
      "outputs": [
        {
          "output_type": "stream",
          "name": "stdout",
          "text": [
            "   Unnamed: 0 Party       County Name     1 GIS Join Match Code  \\\n",
            "0           0     R   Accomack County  2823            G5100010   \n",
            "1           1     D  Albemarle County  2824            G5100030   \n",
            "2           2     R  Alleghany County  2825            G5100050   \n",
            "3           3     R     Amelia County  2826            G5100070   \n",
            "4           4     R    Amherst County  2827            G5100090   \n",
            "\n",
            "  Data File Year State Postal Abbreviation  Region Code  Division Code  \\\n",
            "0      2016-2020                        VA          0.0            0.0   \n",
            "1      2016-2020                        VA          0.0            0.0   \n",
            "2      2016-2020                        VA          0.0            0.0   \n",
            "3      2016-2020                        VA          0.0            0.0   \n",
            "4      2016-2020                        VA          0.0            0.0   \n",
            "\n",
            "  State Name  ...  Female: 35 to 64 years  \\\n",
            "0   Virginia  ...                    6474   \n",
            "1   Virginia  ...                   20763   \n",
            "2   Virginia  ...                    3052   \n",
            "3   Virginia  ...                    2667   \n",
            "4   Virginia  ...                    6596   \n",
            "\n",
            "   Female: 35 to 64 years: With a disability  \\\n",
            "0                                        823   \n",
            "1                                       1248   \n",
            "2                                        523   \n",
            "3                                        379   \n",
            "4                                        771   \n",
            "\n",
            "   Female: 35 to 64 years: No disability  Female: 65 to 74 years  \\\n",
            "0                                   5651                    2376   \n",
            "1                                  19515                    6183   \n",
            "2                                   2529                    1071   \n",
            "3                                   2288                     746   \n",
            "4                                   5825                    2009   \n",
            "\n",
            "   Female: 65 to 74 years: With a disability  \\\n",
            "0                                        426   \n",
            "1                                        723   \n",
            "2                                        288   \n",
            "3                                        114   \n",
            "4                                        472   \n",
            "\n",
            "   Female: 65 to 74 years: No disability  Female: 75 years and over  \\\n",
            "0                                   1950                       1683   \n",
            "1                                   5460                       4898   \n",
            "2                                    783                        836   \n",
            "3                                    632                        570   \n",
            "4                                   1537                       1636   \n",
            "\n",
            "   Female: 75 years and over: With a disability  \\\n",
            "0                                           920   \n",
            "1                                          2124   \n",
            "2                                           442   \n",
            "3                                           265   \n",
            "4                                           695   \n",
            "\n",
            "   Female: 75 years and over: No disability  Gini Index  \n",
            "0                                       763      0.4562  \n",
            "1                                      2774      0.4719  \n",
            "2                                       394      0.4537  \n",
            "3                                       305      0.4320  \n",
            "4                                       941      0.4239  \n",
            "\n",
            "[5 rows x 164 columns]\n"
          ]
        }
      ]
    },
    {
      "cell_type": "code",
      "source": [
        "print(data.columns)"
      ],
      "metadata": {
        "id": "IdmVaaulO95f",
        "outputId": "638dc2f8-07d2-4fac-ca5f-acb950df8c13",
        "colab": {
          "base_uri": "https://localhost:8080/"
        }
      },
      "execution_count": 4,
      "outputs": [
        {
          "output_type": "stream",
          "name": "stdout",
          "text": [
            "Index(['Unnamed: 0', 'Party', 'County Name', '1', 'GIS Join Match Code',\n",
            "       'Data File Year', 'State Postal Abbreviation', 'Region Code',\n",
            "       'Division Code', 'State Name',\n",
            "       ...\n",
            "       'Female: 35 to 64 years', 'Female: 35 to 64 years: With a disability',\n",
            "       'Female: 35 to 64 years: No disability', 'Female: 65 to 74 years',\n",
            "       'Female: 65 to 74 years: With a disability',\n",
            "       'Female: 65 to 74 years: No disability', 'Female: 75 years and over',\n",
            "       'Female: 75 years and over: With a disability',\n",
            "       'Female: 75 years and over: No disability', 'Gini Index'],\n",
            "      dtype='object', length=164)\n"
          ]
        }
      ]
    },
    {
      "cell_type": "code",
      "source": [
        "from sklearn.tree import DecisionTreeClassifier\n",
        "from sklearn.metrics import accuracy_score\n",
        "import pandas as pd\n",
        "\n",
        "# Read the CSV file\n",
        "df = pd.read_csv('/content/project_voting/final.csv')\n",
        "\n",
        "# Select essential numeric features (you may adjust this based on your domain knowledge)\n",
        "numeric_features = ['Gini Index', 'Total']\n",
        "\n",
        "# Subset the data to include only essential numeric features and the target variable\n",
        "data = df[numeric_features + ['Party']]\n",
        "\n",
        "# Drop rows with missing values\n",
        "data.dropna(inplace=True)\n",
        "\n",
        "# Separate the target variable ('Party') from the features\n",
        "y = data['Party'].apply(lambda x: 1 if x == 'D' else 0)\n",
        "X = data.drop(['Party'], axis=1)\n",
        "\n",
        "# Initialize the model\n",
        "cart = DecisionTreeClassifier(random_state=42)\n",
        "\n",
        "# Fit the model\n",
        "cart.fit(X, y)\n",
        "\n",
        "# Make predictions\n",
        "y_pred = cart.predict(X)\n",
        "\n",
        "# Calculate accuracy\n",
        "accuracy = accuracy_score(y, y_pred)\n",
        "print(\"Accuracy:\", accuracy)\n"
      ],
      "metadata": {
        "id": "f_uJazu4Unzn",
        "outputId": "1eb56f77-53cb-45ab-a24b-79cd362a7dc1",
        "colab": {
          "base_uri": "https://localhost:8080/"
        }
      },
      "execution_count": 31,
      "outputs": [
        {
          "output_type": "stream",
          "name": "stdout",
          "text": [
            "Accuracy: 1.0\n"
          ]
        },
        {
          "output_type": "stream",
          "name": "stderr",
          "text": [
            "<ipython-input-31-785c7aa25398>:15: SettingWithCopyWarning: \n",
            "A value is trying to be set on a copy of a slice from a DataFrame\n",
            "\n",
            "See the caveats in the documentation: https://pandas.pydata.org/pandas-docs/stable/user_guide/indexing.html#returning-a-view-versus-a-copy\n",
            "  data.dropna(inplace=True)\n"
          ]
        }
      ]
    },
    {
      "cell_type": "markdown",
      "source": [
        "An accuracy of 1 means the decision tree model achieved perfect accuracy on the training data, which could indicate overfitting. The model has learned the training data too well and may not generalize well to unseen data. Now let's evaluate the model on a separate test dataset by splitting the data into training and testing sets."
      ],
      "metadata": {
        "id": "PujkbifgUz8w"
      }
    },
    {
      "cell_type": "code",
      "source": [
        "from sklearn.model_selection import train_test_split\n",
        "\n",
        "# Split the data into training and testing sets\n",
        "X_train, X_test, y_train, y_test = train_test_split(X, y, test_size=0.2, random_state=42)\n",
        "\n",
        "# Initialize and fit the model\n",
        "cart = DecisionTreeClassifier(random_state=42)\n",
        "cart.fit(X_train, y_train)\n",
        "\n",
        "# Make predictions on the test set\n",
        "y_pred_test = cart.predict(X_test)\n",
        "\n",
        "# Calculate accuracy on the test set\n",
        "accuracy_test = accuracy_score(y_test, y_pred_test)\n",
        "print(\"Accuracy on Test Set:\", accuracy_test)\n"
      ],
      "metadata": {
        "id": "c1hxiqdgVAXF",
        "outputId": "1a4b3028-4726-404c-bc23-771938ab1ab7",
        "colab": {
          "base_uri": "https://localhost:8080/"
        }
      },
      "execution_count": 32,
      "outputs": [
        {
          "output_type": "stream",
          "name": "stdout",
          "text": [
            "Accuracy on Test Set: 0.5925925925925926\n"
          ]
        }
      ]
    },
    {
      "cell_type": "markdown",
      "source": [
        "An accuracy of .59259 indicates that the model's performance on the unseen data is lower than on the training data. This supports the argument above indicating that the model might be overfitting to some extent."
      ],
      "metadata": {
        "id": "AsIYJAcAVWVQ"
      }
    },
    {
      "cell_type": "code",
      "source": [
        "# Print column names in the DataFrame\n",
        "print(df.columns)\n"
      ],
      "metadata": {
        "id": "iAaJ-SagWVWf",
        "outputId": "13b3c023-f65d-430d-9c68-c1e0e6451318",
        "colab": {
          "base_uri": "https://localhost:8080/"
        }
      },
      "execution_count": 34,
      "outputs": [
        {
          "output_type": "stream",
          "name": "stdout",
          "text": [
            "Index(['Unnamed: 0', 'Party', 'County Name', '1', 'GIS Join Match Code',\n",
            "       'Data File Year', 'State Postal Abbreviation', 'Region Code',\n",
            "       'Division Code', 'State Name',\n",
            "       ...\n",
            "       'Female: 35 to 64 years', 'Female: 35 to 64 years: With a disability',\n",
            "       'Female: 35 to 64 years: No disability', 'Female: 65 to 74 years',\n",
            "       'Female: 65 to 74 years: With a disability',\n",
            "       'Female: 65 to 74 years: No disability', 'Female: 75 years and over',\n",
            "       'Female: 75 years and over: With a disability',\n",
            "       'Female: 75 years and over: No disability', 'Gini Index'],\n",
            "      dtype='object', length=164)\n"
          ]
        }
      ]
    },
    {
      "cell_type": "code",
      "source": [
        "# Print all column names in the DataFrame\n",
        "for column in df.columns:\n",
        "    print(column)\n"
      ],
      "metadata": {
        "id": "qqjHItf0WipT",
        "outputId": "8d33ec96-2cea-4319-c5d3-56028cf27d9c",
        "colab": {
          "base_uri": "https://localhost:8080/"
        }
      },
      "execution_count": 36,
      "outputs": [
        {
          "output_type": "stream",
          "name": "stdout",
          "text": [
            "Unnamed: 0\n",
            "Party\n",
            "County Name\n",
            "1\n",
            "GIS Join Match Code\n",
            "Data File Year\n",
            "State Postal Abbreviation\n",
            "Region Code\n",
            "Division Code\n",
            "State Name\n",
            "State Code\n",
            "County Code\n",
            "County Subdivision Code\n",
            "Place Code\n",
            "Census Tract Code\n",
            "Consolidated City Code\n",
            "American Indian Area/Alaska Native Area/Hawaiian Home Land Code\n",
            "American Indian Area/Alaska Native Area (Reservation or Statistical Entity Only) Code\n",
            "American Indian Area (Off-Reservation Trust Land Only)/Hawaiian Home Land Code\n",
            "American Indian Trust Land/ Hawaiian Home Land Indicator\n",
            "Tribal Subdivision/Remainder Code\n",
            "Alaska Native Regional Corporation Code\n",
            "Metropolitan Statistical Area/Micropolitan Statistical Area Code\n",
            "Combined Statistical Area Code\n",
            "Metropolitan Division Code\n",
            "New England City and Town Area Code\n",
            "Combined New England City and Town Area Code\n",
            "New England City and Town Area Division Code\n",
            "Urban Area Code\n",
            "Congressional District (2019-2021, 116th Congress) Code\n",
            "State Legislative District (Upper Chamber) Code\n",
            "State Legislative District (Lower Chamber) Code\n",
            "5-Digit ZIP Code Tabulation Area Code\n",
            "Subminor Civil Division Code\n",
            "School District (Elementary)/Remainder Code\n",
            "School District (Secondary)/Remainder Code\n",
            "School District (Unified)/Remainder Code\n",
            "Principal City Indicator\n",
            "Public Use Microdata Area Code\n",
            "Census Geographic Identifier\n",
            "Area Name\n",
            "Tribal Census Tract Code\n",
            "Total\n",
            "U.S. citizen, born in the United States\n",
            "U.S. citizen, born in Puerto Rico or U.S. Island Areas\n",
            "U.S. citizen, born abroad of American parent(s)\n",
            "U.S. citizen by naturalization\n",
            "Not a U.S. citizen\n",
            "Total.1\n",
            "Income in the past 12 months below poverty level\n",
            "Income in the past 12 months below poverty level: Male\n",
            "Income in the past 12 months below poverty level: Male: Under 5 years\n",
            "Income in the past 12 months below poverty level: Male: 5 years\n",
            "Income in the past 12 months below poverty level: Male: 6 to 11 years\n",
            "Income in the past 12 months below poverty level: Male: 12 to 14 years\n",
            "Income in the past 12 months below poverty level: Male: 15 years\n",
            "Income in the past 12 months below poverty level: Male: 16 and 17 years\n",
            "Income in the past 12 months below poverty level: Male: 18 to 24 years\n",
            "Income in the past 12 months below poverty level: Male: 25 to 34 years\n",
            "Income in the past 12 months below poverty level: Male: 35 to 44 years\n",
            "Income in the past 12 months below poverty level: Male: 45 to 54 years\n",
            "Income in the past 12 months below poverty level: Male: 55 to 64 years\n",
            "Income in the past 12 months below poverty level: Male: 65 to 74 years\n",
            "Income in the past 12 months below poverty level: Male: 75 years and over\n",
            "Income in the past 12 months below poverty level: Female\n",
            "Income in the past 12 months below poverty level: Female: Under 5 years\n",
            "Income in the past 12 months below poverty level: Female: 5 years\n",
            "Income in the past 12 months below poverty level: Female: 6 to 11 years\n",
            "Income in the past 12 months below poverty level: Female: 12 to 14 years\n",
            "Income in the past 12 months below poverty level: Female: 15 years\n",
            "Income in the past 12 months below poverty level: Female: 16 and 17 years\n",
            "Income in the past 12 months below poverty level: Female: 18 to 24 years\n",
            "Income in the past 12 months below poverty level: Female: 25 to 34 years\n",
            "Income in the past 12 months below poverty level: Female: 35 to 44 years\n",
            "Income in the past 12 months below poverty level: Female: 45 to 54 years\n",
            "Income in the past 12 months below poverty level: Female: 55 to 64 years\n",
            "Income in the past 12 months below poverty level: Female: 65 to 74 years\n",
            "Income in the past 12 months below poverty level: Female: 75 years and over\n",
            "Income in the past 12 months at or above poverty level\n",
            "Income in the past 12 months at or above poverty level: Male\n",
            "Income in the past 12 months at or above poverty level: Male: Under 5 years\n",
            "Income in the past 12 months at or above poverty level: Male: 5 years\n",
            "Income in the past 12 months at or above poverty level: Male: 6 to 11 years\n",
            "Income in the past 12 months at or above poverty level: Male: 12 to 14 years\n",
            "Income in the past 12 months at or above poverty level: Male: 15 years\n",
            "Income in the past 12 months at or above poverty level: Male: 16 and 17 years\n",
            "Income in the past 12 months at or above poverty level: Male: 18 to 24 years\n",
            "Income in the past 12 months at or above poverty level: Male: 25 to 34 years\n",
            "Income in the past 12 months at or above poverty level: Male: 35 to 44 years\n",
            "Income in the past 12 months at or above poverty level: Male: 45 to 54 years\n",
            "Income in the past 12 months at or above poverty level: Male: 55 to 64 years\n",
            "Income in the past 12 months at or above poverty level: Male: 65 to 74 years\n",
            "Income in the past 12 months at or above poverty level: Male: 75 years and over\n",
            "Income in the past 12 months at or above poverty level: Female\n",
            "Income in the past 12 months at or above poverty level: Female: Under 5 years\n",
            "Income in the past 12 months at or above poverty level: Female: 5 years\n",
            "Income in the past 12 months at or above poverty level: Female: 6 to 11 years\n",
            "Income in the past 12 months at or above poverty level: Female: 12 to 14 years\n",
            "Income in the past 12 months at or above poverty level: Female: 15 years\n",
            "Income in the past 12 months at or above poverty level: Female: 16 and 17 years\n",
            "Income in the past 12 months at or above poverty level: Female: 18 to 24 years\n",
            "Income in the past 12 months at or above poverty level: Female: 25 to 34 years\n",
            "Income in the past 12 months at or above poverty level: Female: 35 to 44 years\n",
            "Income in the past 12 months at or above poverty level: Female: 45 to 54 years\n",
            "Income in the past 12 months at or above poverty level: Female: 55 to 64 years\n",
            "Income in the past 12 months at or above poverty level: Female: 65 to 74 years\n",
            "Income in the past 12 months at or above poverty level: Female: 75 years and over\n",
            "Total.2\n",
            "Income in the past 12 months below poverty level.1\n",
            "Income in the past 12 months below poverty level: Under 6 years\n",
            "Income in the past 12 months below poverty level: 6 to 11 years\n",
            "Income in the past 12 months below poverty level: 12 to 17 years\n",
            "Income in the past 12 months below poverty level: 18 to 59 years\n",
            "Income in the past 12 months below poverty level: 60 to 74 years\n",
            "Income in the past 12 months below poverty level: 75 to 84 years\n",
            "Income in the past 12 months below poverty level: 85 years and over\n",
            "Income in the past 12 months at or above poverty level.1\n",
            "Income in the past 12 months at or above poverty level: Under 6 years\n",
            "Income in the past 12 months at or above poverty level: 6 to 11 years\n",
            "Income in the past 12 months at or above poverty level: 12 to 17 years\n",
            "Income in the past 12 months at or above poverty level: 18 to 59 years\n",
            "Income in the past 12 months at or above poverty level: 60 to 74 years\n",
            "Income in the past 12 months at or above poverty level: 75 to 84 years\n",
            "Income in the past 12 months at or above poverty level: 85 years and over\n",
            "Total.3\n",
            "Male\n",
            "Male: Under 5 years\n",
            "Male: Under 5 years: With a disability\n",
            "Male: Under 5 years: No disability\n",
            "Male: 5 to 17 years\n",
            "Male: 5 to 17 years: With a disability\n",
            "Male: 5 to 17 years: No disability\n",
            "Male: 18 to 34 years\n",
            "Male: 18 to 34 years: With a disability\n",
            "Male: 18 to 34 years: No disability\n",
            "Male: 35 to 64 years\n",
            "Male: 35 to 64 years: With a disability\n",
            "Male: 35 to 64 years: No disability\n",
            "Male: 65 to 74 years\n",
            "Male: 65 to 74 years: With a disability\n",
            "Male: 65 to 74 years: No disability\n",
            "Male: 75 years and over\n",
            "Male: 75 years and over: With a disability\n",
            "Male: 75 years and over: No disability\n",
            "Female\n",
            "Female: Under 5 years\n",
            "Female: Under 5 years: With a disability\n",
            "Female: Under 5 years: No disability\n",
            "Female: 5 to 17 years\n",
            "Female: 5 to 17 years: With a disability\n",
            "Female: 5 to 17 years: No disability\n",
            "Female: 18 to 34 years\n",
            "Female: 18 to 34 years: With a disability\n",
            "Female: 18 to 34 years: No disability\n",
            "Female: 35 to 64 years\n",
            "Female: 35 to 64 years: With a disability\n",
            "Female: 35 to 64 years: No disability\n",
            "Female: 65 to 74 years\n",
            "Female: 65 to 74 years: With a disability\n",
            "Female: 65 to 74 years: No disability\n",
            "Female: 75 years and over\n",
            "Female: 75 years and over: With a disability\n",
            "Female: 75 years and over: No disability\n",
            "Gini Index\n"
          ]
        }
      ]
    },
    {
      "cell_type": "code",
      "source": [
        "from sklearn.tree import DecisionTreeClassifier\n",
        "from sklearn.metrics import accuracy_score\n",
        "from sklearn.model_selection import train_test_split\n",
        "import pandas as pd\n",
        "\n",
        "# Read the CSV file\n",
        "df = pd.read_csv('/content/project_voting/final.csv')\n",
        "\n",
        "# Select relevant features\n",
        "relevant_features = [\n",
        "    'U.S. citizen, born in the United States',\n",
        "    'Not a U.S. citizen',\n",
        "    'Income in the past 12 months below poverty level',\n",
        "    'Party'\n",
        "]\n",
        "\n",
        "# Subset the data to include only relevant features\n",
        "data = df[relevant_features].copy()  # Make a copy of the DataFrame\n",
        "\n",
        "# Drop rows with missing values\n",
        "data.dropna(inplace=True)\n",
        "\n",
        "# Map party affiliation to binary labels (D: 1, R: 0)\n",
        "data['Party'] = data['Party'].map({'D': 1, 'R': 0})\n",
        "\n",
        "# Separate the target variable ('Party') from the features\n",
        "y = data['Party']\n",
        "X = data.drop(['Party'], axis=1)\n",
        "\n",
        "# Split the data into training and testing sets\n",
        "X_train, X_test, y_train, y_test = train_test_split(X, y, test_size=0.2, random_state=42)\n",
        "\n",
        "# Initialize and fit the model\n",
        "cart = DecisionTreeClassifier(random_state=42)\n",
        "cart.fit(X_train, y_train)\n",
        "\n",
        "# Make predictions on the test set\n",
        "y_pred_test = cart.predict(X_test)\n",
        "\n",
        "# Calculate accuracy on the test set\n",
        "accuracy_test = accuracy_score(y_test, y_pred_test)\n",
        "print(\"Accuracy on Test Set:\", accuracy_test)\n",
        "\n"
      ],
      "metadata": {
        "id": "7cXwhna3XA6t",
        "outputId": "c394d0c8-4c51-4849-947e-397915b37a3e",
        "colab": {
          "base_uri": "https://localhost:8080/"
        }
      },
      "execution_count": 38,
      "outputs": [
        {
          "output_type": "stream",
          "name": "stdout",
          "text": [
            "Accuracy on Test Set: 0.8518518518518519\n"
          ]
        }
      ]
    },
    {
      "cell_type": "markdown",
      "source": [
        "Accuracy in the context of this project represents the proportion of correctly predicted outcomes (party affiliations) by the model on the test set.\n",
        "\n",
        "The accuracy of approximately 85% means that the model correctly predicted the party affiliation (D for Democratic or R for Republican) for 85% of the counties in the test set.\n",
        "\n",
        "It also implies that the model's predictions align with the actual party affiliations of the counties in the test set about 85% of the time.\n",
        "\n",
        "Interpreting accuracy in this way gives an understanding of how well the model performs in terms of classifying counties into their respective political parties based on the features provided in the dataset.\n",
        "\n",
        "By incorporating additional features such as U.S. citizenship status, birthplace, and income level into the model, we observed a substantial improvement in predictive performance. Specifically, our model achieved an accuracy of approximately 85% on the test set, which represents a significant enhancement compared to the original model's accuracy of 59%.\n",
        "\n",
        "This improvement underscores the relevance and predictive power of these features in determining party affiliation within Virginia counties. Factors such as citizenship status and income level likely play a crucial role in shaping political preferences and voting behaviors at the county level. By leveraging this demographic and socioeconomic information, our model can more accurately discern patterns and trends in party affiliation across different regions."
      ],
      "metadata": {
        "id": "eXA-0q3hXhY6"
      }
    },
    {
      "cell_type": "markdown",
      "source": [
        "Now proceeding with other relevant columns to test our model with."
      ],
      "metadata": {
        "id": "IIOG0oQAZy1K"
      }
    },
    {
      "cell_type": "markdown",
      "source": [
        "I want to add the following relevant varibles but it's not working!"
      ],
      "metadata": {
        "id": "4EedyMYZccXY"
      }
    },
    {
      "cell_type": "code",
      "source": [
        "# Select relevant columns for feature engineering\n",
        "selected_columns = ['Income in the past 12 months at or above poverty level',\n",
        "                    'Income in the past 12 months at or above poverty level: Male',\n",
        "                    'Income in the past 12 months at or above poverty level: Female',\n",
        "                    'Male',\n",
        "                    'Female',\n",
        "                    'Party']  # Include the target variable\n",
        "\n",
        "# Create a new DataFrame with selected columns\n",
        "selected_data = data[selected_columns].copy()\n",
        "\n",
        "# Check for missing values\n",
        "print(\"Missing values before preprocessing:\")\n",
        "print(selected_data.isnull().sum())\n",
        "\n",
        "# Handle missing values (if any)\n",
        "# For simplicity, let's drop rows with missing values in this example\n",
        "selected_data.dropna(inplace=True)\n",
        "\n",
        "# Split the data into features (X) and target (y)\n",
        "X = selected_data.drop('Party', axis=1)\n",
        "y = selected_data['Party']\n",
        "\n",
        "# Display the first few rows of the preprocessed data\n",
        "print(\"Preprocessed data:\")\n",
        "print(X.head())\n",
        "print(\"Target variable (Party):\")\n",
        "print(y.head())\n"
      ],
      "metadata": {
        "id": "Jp3ucQ0ncRhO",
        "outputId": "354618b0-06e5-4367-ef46-e90e41260d2a",
        "colab": {
          "base_uri": "https://localhost:8080/",
          "height": 426
        }
      },
      "execution_count": 46,
      "outputs": [
        {
          "output_type": "error",
          "ename": "KeyError",
          "evalue": "\"['Income in the past 12 months at or above poverty level', 'Income in the past 12 months at or above poverty level: Male', 'Income in the past 12 months at or above poverty level: Female', 'Male', 'Female'] not in index\"",
          "traceback": [
            "\u001b[0;31m---------------------------------------------------------------------------\u001b[0m",
            "\u001b[0;31mKeyError\u001b[0m                                  Traceback (most recent call last)",
            "\u001b[0;32m<ipython-input-46-8034b9997af9>\u001b[0m in \u001b[0;36m<cell line: 10>\u001b[0;34m()\u001b[0m\n\u001b[1;32m      8\u001b[0m \u001b[0;34m\u001b[0m\u001b[0m\n\u001b[1;32m      9\u001b[0m \u001b[0;31m# Create a new DataFrame with selected columns\u001b[0m\u001b[0;34m\u001b[0m\u001b[0;34m\u001b[0m\u001b[0m\n\u001b[0;32m---> 10\u001b[0;31m \u001b[0mselected_data2\u001b[0m \u001b[0;34m=\u001b[0m \u001b[0mdata\u001b[0m\u001b[0;34m[\u001b[0m\u001b[0mselected_columns1\u001b[0m\u001b[0;34m]\u001b[0m\u001b[0;34m.\u001b[0m\u001b[0mcopy\u001b[0m\u001b[0;34m(\u001b[0m\u001b[0;34m)\u001b[0m\u001b[0;34m\u001b[0m\u001b[0;34m\u001b[0m\u001b[0m\n\u001b[0m\u001b[1;32m     11\u001b[0m \u001b[0;34m\u001b[0m\u001b[0m\n\u001b[1;32m     12\u001b[0m \u001b[0;31m# Check for missing values\u001b[0m\u001b[0;34m\u001b[0m\u001b[0;34m\u001b[0m\u001b[0m\n",
            "\u001b[0;32m/usr/local/lib/python3.10/dist-packages/pandas/core/frame.py\u001b[0m in \u001b[0;36m__getitem__\u001b[0;34m(self, key)\u001b[0m\n\u001b[1;32m   3765\u001b[0m             \u001b[0;32mif\u001b[0m \u001b[0mis_iterator\u001b[0m\u001b[0;34m(\u001b[0m\u001b[0mkey\u001b[0m\u001b[0;34m)\u001b[0m\u001b[0;34m:\u001b[0m\u001b[0;34m\u001b[0m\u001b[0;34m\u001b[0m\u001b[0m\n\u001b[1;32m   3766\u001b[0m                 \u001b[0mkey\u001b[0m \u001b[0;34m=\u001b[0m \u001b[0mlist\u001b[0m\u001b[0;34m(\u001b[0m\u001b[0mkey\u001b[0m\u001b[0;34m)\u001b[0m\u001b[0;34m\u001b[0m\u001b[0;34m\u001b[0m\u001b[0m\n\u001b[0;32m-> 3767\u001b[0;31m             \u001b[0mindexer\u001b[0m \u001b[0;34m=\u001b[0m \u001b[0mself\u001b[0m\u001b[0;34m.\u001b[0m\u001b[0mcolumns\u001b[0m\u001b[0;34m.\u001b[0m\u001b[0m_get_indexer_strict\u001b[0m\u001b[0;34m(\u001b[0m\u001b[0mkey\u001b[0m\u001b[0;34m,\u001b[0m \u001b[0;34m\"columns\"\u001b[0m\u001b[0;34m)\u001b[0m\u001b[0;34m[\u001b[0m\u001b[0;36m1\u001b[0m\u001b[0;34m]\u001b[0m\u001b[0;34m\u001b[0m\u001b[0;34m\u001b[0m\u001b[0m\n\u001b[0m\u001b[1;32m   3768\u001b[0m \u001b[0;34m\u001b[0m\u001b[0m\n\u001b[1;32m   3769\u001b[0m         \u001b[0;31m# take() does not accept boolean indexers\u001b[0m\u001b[0;34m\u001b[0m\u001b[0;34m\u001b[0m\u001b[0m\n",
            "\u001b[0;32m/usr/local/lib/python3.10/dist-packages/pandas/core/indexes/base.py\u001b[0m in \u001b[0;36m_get_indexer_strict\u001b[0;34m(self, key, axis_name)\u001b[0m\n\u001b[1;32m   5875\u001b[0m             \u001b[0mkeyarr\u001b[0m\u001b[0;34m,\u001b[0m \u001b[0mindexer\u001b[0m\u001b[0;34m,\u001b[0m \u001b[0mnew_indexer\u001b[0m \u001b[0;34m=\u001b[0m \u001b[0mself\u001b[0m\u001b[0;34m.\u001b[0m\u001b[0m_reindex_non_unique\u001b[0m\u001b[0;34m(\u001b[0m\u001b[0mkeyarr\u001b[0m\u001b[0;34m)\u001b[0m\u001b[0;34m\u001b[0m\u001b[0;34m\u001b[0m\u001b[0m\n\u001b[1;32m   5876\u001b[0m \u001b[0;34m\u001b[0m\u001b[0m\n\u001b[0;32m-> 5877\u001b[0;31m         \u001b[0mself\u001b[0m\u001b[0;34m.\u001b[0m\u001b[0m_raise_if_missing\u001b[0m\u001b[0;34m(\u001b[0m\u001b[0mkeyarr\u001b[0m\u001b[0;34m,\u001b[0m \u001b[0mindexer\u001b[0m\u001b[0;34m,\u001b[0m \u001b[0maxis_name\u001b[0m\u001b[0;34m)\u001b[0m\u001b[0;34m\u001b[0m\u001b[0;34m\u001b[0m\u001b[0m\n\u001b[0m\u001b[1;32m   5878\u001b[0m \u001b[0;34m\u001b[0m\u001b[0m\n\u001b[1;32m   5879\u001b[0m         \u001b[0mkeyarr\u001b[0m \u001b[0;34m=\u001b[0m \u001b[0mself\u001b[0m\u001b[0;34m.\u001b[0m\u001b[0mtake\u001b[0m\u001b[0;34m(\u001b[0m\u001b[0mindexer\u001b[0m\u001b[0;34m)\u001b[0m\u001b[0;34m\u001b[0m\u001b[0;34m\u001b[0m\u001b[0m\n",
            "\u001b[0;32m/usr/local/lib/python3.10/dist-packages/pandas/core/indexes/base.py\u001b[0m in \u001b[0;36m_raise_if_missing\u001b[0;34m(self, key, indexer, axis_name)\u001b[0m\n\u001b[1;32m   5939\u001b[0m \u001b[0;34m\u001b[0m\u001b[0m\n\u001b[1;32m   5940\u001b[0m             \u001b[0mnot_found\u001b[0m \u001b[0;34m=\u001b[0m \u001b[0mlist\u001b[0m\u001b[0;34m(\u001b[0m\u001b[0mensure_index\u001b[0m\u001b[0;34m(\u001b[0m\u001b[0mkey\u001b[0m\u001b[0;34m)\u001b[0m\u001b[0;34m[\u001b[0m\u001b[0mmissing_mask\u001b[0m\u001b[0;34m.\u001b[0m\u001b[0mnonzero\u001b[0m\u001b[0;34m(\u001b[0m\u001b[0;34m)\u001b[0m\u001b[0;34m[\u001b[0m\u001b[0;36m0\u001b[0m\u001b[0;34m]\u001b[0m\u001b[0;34m]\u001b[0m\u001b[0;34m.\u001b[0m\u001b[0munique\u001b[0m\u001b[0;34m(\u001b[0m\u001b[0;34m)\u001b[0m\u001b[0;34m)\u001b[0m\u001b[0;34m\u001b[0m\u001b[0;34m\u001b[0m\u001b[0m\n\u001b[0;32m-> 5941\u001b[0;31m             \u001b[0;32mraise\u001b[0m \u001b[0mKeyError\u001b[0m\u001b[0;34m(\u001b[0m\u001b[0;34mf\"{not_found} not in index\"\u001b[0m\u001b[0;34m)\u001b[0m\u001b[0;34m\u001b[0m\u001b[0;34m\u001b[0m\u001b[0m\n\u001b[0m\u001b[1;32m   5942\u001b[0m \u001b[0;34m\u001b[0m\u001b[0m\n\u001b[1;32m   5943\u001b[0m     \u001b[0;34m@\u001b[0m\u001b[0moverload\u001b[0m\u001b[0;34m\u001b[0m\u001b[0;34m\u001b[0m\u001b[0m\n",
            "\u001b[0;31mKeyError\u001b[0m: \"['Income in the past 12 months at or above poverty level', 'Income in the past 12 months at or above poverty level: Male', 'Income in the past 12 months at or above poverty level: Female', 'Male', 'Female'] not in index\""
          ]
        }
      ]
    }
  ]
}